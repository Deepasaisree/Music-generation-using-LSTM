{
 "cells": [
  {
   "cell_type": "code",
   "execution_count": 1,
   "id": "1481e1a9",
   "metadata": {
    "_kg_hide-input": false,
    "_kg_hide-output": false,
    "execution": {
     "iopub.execute_input": "2024-07-03T12:54:46.919024Z",
     "iopub.status.busy": "2024-07-03T12:54:46.918730Z",
     "iopub.status.idle": "2024-07-03T12:55:03.874226Z",
     "shell.execute_reply": "2024-07-03T12:55:03.873114Z"
    },
    "papermill": {
     "duration": 16.964659,
     "end_time": "2024-07-03T12:55:03.876490",
     "exception": false,
     "start_time": "2024-07-03T12:54:46.911831",
     "status": "completed"
    },
    "tags": []
   },
   "outputs": [
    {
     "name": "stdout",
     "output_type": "stream",
     "text": [
      "Collecting pretty_midi\r\n",
      "  Downloading pretty_midi-0.2.10.tar.gz (5.6 MB)\r\n",
      "\u001b[2K     \u001b[90m━━━━━━━━━━━━━━━━━━━━━━━━━━━━━━━━━━━━━━━━\u001b[0m \u001b[32m5.6/5.6 MB\u001b[0m \u001b[31m58.7 MB/s\u001b[0m eta \u001b[36m0:00:00\u001b[0m\r\n",
      "\u001b[?25h  Preparing metadata (setup.py) ... \u001b[?25l-\b \bdone\r\n",
      "\u001b[?25hRequirement already satisfied: numpy>=1.7.0 in /opt/conda/lib/python3.10/site-packages (from pretty_midi) (1.26.4)\r\n",
      "Collecting mido>=1.1.16 (from pretty_midi)\r\n",
      "  Downloading mido-1.3.2-py3-none-any.whl.metadata (6.4 kB)\r\n",
      "Requirement already satisfied: six in /opt/conda/lib/python3.10/site-packages (from pretty_midi) (1.16.0)\r\n",
      "Collecting packaging~=23.1 (from mido>=1.1.16->pretty_midi)\r\n",
      "  Downloading packaging-23.2-py3-none-any.whl.metadata (3.2 kB)\r\n",
      "Downloading mido-1.3.2-py3-none-any.whl (54 kB)\r\n",
      "\u001b[2K   \u001b[90m━━━━━━━━━━━━━━━━━━━━━━━━━━━━━━━━━━━━━━━━\u001b[0m \u001b[32m54.6/54.6 kB\u001b[0m \u001b[31m3.7 MB/s\u001b[0m eta \u001b[36m0:00:00\u001b[0m\r\n",
      "\u001b[?25hDownloading packaging-23.2-py3-none-any.whl (53 kB)\r\n",
      "\u001b[2K   \u001b[90m━━━━━━━━━━━━━━━━━━━━━━━━━━━━━━━━━━━━━━━━\u001b[0m \u001b[32m53.0/53.0 kB\u001b[0m \u001b[31m3.5 MB/s\u001b[0m eta \u001b[36m0:00:00\u001b[0m\r\n",
      "\u001b[?25hBuilding wheels for collected packages: pretty_midi\r\n",
      "  Building wheel for pretty_midi (setup.py) ... \u001b[?25l-\b \b\\\b \bdone\r\n",
      "\u001b[?25h  Created wheel for pretty_midi: filename=pretty_midi-0.2.10-py3-none-any.whl size=5592287 sha256=e431bf57b5dc888a8a5c06a1f5ee270430246637cd7b35a2327d71a0c4fe737d\r\n",
      "  Stored in directory: /root/.cache/pip/wheels/cd/a5/30/7b8b7f58709f5150f67f98fde4b891ebf0be9ef07a8af49f25\r\n",
      "Successfully built pretty_midi\r\n",
      "Installing collected packages: packaging, mido, pretty_midi\r\n",
      "  Attempting uninstall: packaging\r\n",
      "    Found existing installation: packaging 21.3\r\n",
      "    Uninstalling packaging-21.3:\r\n",
      "      Successfully uninstalled packaging-21.3\r\n",
      "\u001b[31mERROR: pip's dependency resolver does not currently take into account all the packages that are installed. This behaviour is the source of the following dependency conflicts.\r\n",
      "cudf 23.8.0 requires cubinlinker, which is not installed.\r\n",
      "cudf 23.8.0 requires cupy-cuda11x>=12.0.0, which is not installed.\r\n",
      "cudf 23.8.0 requires ptxcompiler, which is not installed.\r\n",
      "cuml 23.8.0 requires cupy-cuda11x>=12.0.0, which is not installed.\r\n",
      "dask-cudf 23.8.0 requires cupy-cuda11x>=12.0.0, which is not installed.\r\n",
      "keras-cv 0.8.2 requires keras-core, which is not installed.\r\n",
      "keras-nlp 0.8.2 requires keras-core, which is not installed.\r\n",
      "tensorflow-decision-forests 1.8.1 requires wurlitzer, which is not installed.\r\n",
      "cudf 23.8.0 requires cuda-python<12.0a0,>=11.7.1, but you have cuda-python 12.4.0 which is incompatible.\r\n",
      "cudf 23.8.0 requires pandas<1.6.0dev0,>=1.3, but you have pandas 2.1.4 which is incompatible.\r\n",
      "cudf 23.8.0 requires protobuf<5,>=4.21, but you have protobuf 3.20.3 which is incompatible.\r\n",
      "cuml 23.8.0 requires dask==2023.7.1, but you have dask 2024.3.1 which is incompatible.\r\n",
      "dask-cuda 23.8.0 requires dask==2023.7.1, but you have dask 2024.3.1 which is incompatible.\r\n",
      "dask-cuda 23.8.0 requires pandas<1.6.0dev0,>=1.3, but you have pandas 2.1.4 which is incompatible.\r\n",
      "dask-cudf 23.8.0 requires dask==2023.7.1, but you have dask 2024.3.1 which is incompatible.\r\n",
      "dask-cudf 23.8.0 requires pandas<1.6.0dev0,>=1.3, but you have pandas 2.1.4 which is incompatible.\r\n",
      "distributed 2023.7.1 requires dask==2023.7.1, but you have dask 2024.3.1 which is incompatible.\r\n",
      "google-cloud-bigquery 2.34.4 requires packaging<22.0dev,>=14.3, but you have packaging 23.2 which is incompatible.\r\n",
      "jupyterlab 4.1.5 requires jupyter-lsp>=2.0.0, but you have jupyter-lsp 1.5.1 which is incompatible.\r\n",
      "jupyterlab-lsp 5.1.0 requires jupyter-lsp>=2.0.0, but you have jupyter-lsp 1.5.1 which is incompatible.\r\n",
      "libpysal 4.9.2 requires shapely>=2.0.1, but you have shapely 1.8.5.post1 which is incompatible.\r\n",
      "momepy 0.7.0 requires shapely>=2, but you have shapely 1.8.5.post1 which is incompatible.\r\n",
      "osmnx 1.9.1 requires shapely>=2.0, but you have shapely 1.8.5.post1 which is incompatible.\r\n",
      "raft-dask 23.8.0 requires dask==2023.7.1, but you have dask 2024.3.1 which is incompatible.\r\n",
      "spopt 0.6.0 requires shapely>=2.0.1, but you have shapely 1.8.5.post1 which is incompatible.\r\n",
      "tensorflow 2.15.0 requires keras<2.16,>=2.15.0, but you have keras 3.0.5 which is incompatible.\r\n",
      "ydata-profiling 4.6.4 requires numpy<1.26,>=1.16.0, but you have numpy 1.26.4 which is incompatible.\u001b[0m\u001b[31m\r\n",
      "\u001b[0mSuccessfully installed mido-1.3.2 packaging-23.2 pretty_midi-0.2.10\r\n"
     ]
    }
   ],
   "source": [
    "!pip install pretty_midi"
   ]
  },
  {
   "cell_type": "code",
   "execution_count": 2,
   "id": "7c1e9bda",
   "metadata": {
    "_cell_guid": "b1076dfc-b9ad-4769-8c92-a6c4dae69d19",
    "_uuid": "8f2839f25d086af736a60e9eeb907d3b93b6e0e5",
    "execution": {
     "iopub.execute_input": "2024-07-03T12:55:03.891665Z",
     "iopub.status.busy": "2024-07-03T12:55:03.891323Z",
     "iopub.status.idle": "2024-07-03T12:55:04.944412Z",
     "shell.execute_reply": "2024-07-03T12:55:04.943691Z"
    },
    "papermill": {
     "duration": 1.063023,
     "end_time": "2024-07-03T12:55:04.946614",
     "exception": false,
     "start_time": "2024-07-03T12:55:03.883591",
     "status": "completed"
    },
    "tags": []
   },
   "outputs": [],
   "source": [
    "import pretty_midi\n",
    "import collections\n",
    "import datetime\n",
    "import glob\n",
    "import numpy as np\n",
    "import pathlib\n",
    "import pandas as pd\n",
    "\n",
    "# Input data files are available in the read-only \"../input/\" directory\n",
    "# For example, running this (by clicking run or pressing Shift+Enter) will list all files under the input directory\n",
    "\n",
    "import os\n",
    "# for dirname, _, filenames in os.walk('/kaggle/input'):\n",
    "#     for filename in filenames:\n",
    "#         print(os.path.join(dirname, filename))\n",
    "\n",
    "# You can write up to 20GB to the current directory (/kaggle/working/) that gets preserved as output when you create a version using \"Save & Run All\" \n",
    "# You can also write temporary files to /kaggle/temp/, but they won't be saved outside of the current session"
   ]
  },
  {
   "cell_type": "code",
   "execution_count": 3,
   "id": "72ebb932",
   "metadata": {
    "execution": {
     "iopub.execute_input": "2024-07-03T12:55:04.961926Z",
     "iopub.status.busy": "2024-07-03T12:55:04.961053Z",
     "iopub.status.idle": "2024-07-03T12:55:04.971178Z",
     "shell.execute_reply": "2024-07-03T12:55:04.970287Z"
    },
    "papermill": {
     "duration": 0.019505,
     "end_time": "2024-07-03T12:55:04.973053",
     "exception": false,
     "start_time": "2024-07-03T12:55:04.953548",
     "status": "completed"
    },
    "tags": []
   },
   "outputs": [],
   "source": [
    "def midi_to_notes(midi_file):\n",
    "    try:\n",
    "        midi = pretty_midi.PrettyMIDI(midi_file)\n",
    "    except:\n",
    "        return pd.DataFrame([])\n",
    "    \n",
    "    notes = collections.defaultdict(list)\n",
    "\n",
    "    # Get the list of instrument program numbers\n",
    "    program_numbers = np.arange(0,128)\n",
    "    \n",
    "    # One-hot encode the instrument program numbers\n",
    "    num_instruments = len(program_numbers)\n",
    "    one_hot_encoded_instruments = np.eye(num_instruments)\n",
    "    \n",
    "    # Create a dictionary mapping each instrument's program number to its one-hot encoded vector\n",
    "    program_to_one_hot = {program: one_hot_encoded_instruments[i] for i, program in enumerate(program_numbers)}\n",
    "    \n",
    "    all_notes = []\n",
    "    for instrument in midi.instruments:\n",
    "        for note in instrument.notes:\n",
    "            all_notes.append((note,instrument.program))\n",
    "        \n",
    "    sorted_notes = sorted(all_notes, key=lambda note: note[0].start)\n",
    "    prev_start = sorted_notes[0][0].start\n",
    "\n",
    "    for note_tuple in sorted_notes:\n",
    "        note = note_tuple[0]\n",
    "        program = note_tuple[1]\n",
    "        start = note.start\n",
    "        end = note.end\n",
    "        # Append instrument data\n",
    "        notes['instrument'].append(one_hot_encoded_instruments[program])\n",
    "        notes['pitch'].append(one_hot_encoded_instruments[note.pitch])\n",
    "        notes['start'].append(start)\n",
    "        #print(start,end,program)\n",
    "        notes['end'].append(end)\n",
    "        notes['step'].append(start - prev_start)\n",
    "        notes['duration'].append(end - start)\n",
    "\n",
    "        prev_start = start\n",
    "\n",
    "    return pd.DataFrame(notes)"
   ]
  },
  {
   "cell_type": "code",
   "execution_count": 4,
   "id": "a25236c0",
   "metadata": {
    "execution": {
     "iopub.execute_input": "2024-07-03T12:55:04.987295Z",
     "iopub.status.busy": "2024-07-03T12:55:04.986993Z",
     "iopub.status.idle": "2024-07-03T12:55:04.993153Z",
     "shell.execute_reply": "2024-07-03T12:55:04.992466Z"
    },
    "papermill": {
     "duration": 0.015315,
     "end_time": "2024-07-03T12:55:04.994967",
     "exception": false,
     "start_time": "2024-07-03T12:55:04.979652",
     "status": "completed"
    },
    "tags": []
   },
   "outputs": [],
   "source": [
    "def pre_process(notes, sequence_length=50):\n",
    "    # Scale pitch values\n",
    "    scaled_notes = notes.copy()  # Create a copy to avoid modifying the original array\n",
    "    # scaled_notes[:,-3] /= 128 \n",
    "    # Initialize input and output arrays\n",
    "    \n",
    "    n = len(scaled_notes)\n",
    "    note_input = np.zeros((max(0, n - sequence_length), sequence_length, scaled_notes.shape[1]))\n",
    "    note_output = np.zeros((max(0, n - sequence_length), scaled_notes.shape[1]))\n",
    "    #print(note_input.shape,note_output.shape,scaled_notes.shape,scaled_notes[:sequence_length].shape)\n",
    "    # Populate input and output arrays\n",
    "    for i in range(n - sequence_length):\n",
    "        note_input[i] = scaled_notes[i:i + sequence_length]\n",
    "        note_output[i] = scaled_notes[i + sequence_length]\n",
    "    \n",
    "    return note_input, note_output"
   ]
  },
  {
   "cell_type": "code",
   "execution_count": 5,
   "id": "7565f1f9",
   "metadata": {
    "execution": {
     "iopub.execute_input": "2024-07-03T12:55:05.009444Z",
     "iopub.status.busy": "2024-07-03T12:55:05.009123Z",
     "iopub.status.idle": "2024-07-03T12:55:05.142078Z",
     "shell.execute_reply": "2024-07-03T12:55:05.141278Z"
    },
    "papermill": {
     "duration": 0.14278,
     "end_time": "2024-07-03T12:55:05.144492",
     "exception": false,
     "start_time": "2024-07-03T12:55:05.001712",
     "status": "completed"
    },
    "tags": []
   },
   "outputs": [],
   "source": [
    "import random\n",
    "\n",
    "files = []\n",
    "for dirname, _, filenames in os.walk('/kaggle/input/musicnet-dataset/musicnet_midis/musicnet_midis'):\n",
    "    for filename in filenames:\n",
    "        files.append(os.path.join(dirname, filename))\n",
    "random.shuffle(files)"
   ]
  },
  {
   "cell_type": "code",
   "execution_count": 6,
   "id": "75ddb719",
   "metadata": {
    "execution": {
     "iopub.execute_input": "2024-07-03T12:55:05.160691Z",
     "iopub.status.busy": "2024-07-03T12:55:05.160405Z",
     "iopub.status.idle": "2024-07-03T12:55:05.167031Z",
     "shell.execute_reply": "2024-07-03T12:55:05.166150Z"
    },
    "papermill": {
     "duration": 0.016813,
     "end_time": "2024-07-03T12:55:05.169026",
     "exception": false,
     "start_time": "2024-07-03T12:55:05.152213",
     "status": "completed"
    },
    "tags": []
   },
   "outputs": [
    {
     "data": {
      "text/plain": [
       "'/kaggle/input/musicnet-dataset/musicnet_midis/musicnet_midis/Schubert/1734_sy_sps93.mid'"
      ]
     },
     "execution_count": 6,
     "metadata": {},
     "output_type": "execute_result"
    }
   ],
   "source": [
    "files[0]"
   ]
  },
  {
   "cell_type": "code",
   "execution_count": 7,
   "id": "caa6f357",
   "metadata": {
    "execution": {
     "iopub.execute_input": "2024-07-03T12:55:05.184713Z",
     "iopub.status.busy": "2024-07-03T12:55:05.184467Z",
     "iopub.status.idle": "2024-07-03T12:55:05.192390Z",
     "shell.execute_reply": "2024-07-03T12:55:05.191553Z"
    },
    "papermill": {
     "duration": 0.017868,
     "end_time": "2024-07-03T12:55:05.194272",
     "exception": false,
     "start_time": "2024-07-03T12:55:05.176404",
     "status": "completed"
    },
    "tags": []
   },
   "outputs": [],
   "source": [
    "def fetch_files(n,files,num_files):\n",
    "    start = n % len(files)\n",
    "    end = min(len(files),n+num_files)\n",
    "    all_notes = []\n",
    "    for file in files[start:end]:\n",
    "        notes = midi_to_notes(file)\n",
    "        all_notes.append(notes)\n",
    "    all_notes = pd.concat(all_notes)\n",
    "\n",
    "    #key_order = ['instrument','pitch', 'step', 'duration']\n",
    "    key_order = ['pitch', 'step', 'duration']\n",
    "    try:\n",
    "        train_notes = np.stack([all_notes[key] for key in key_order], axis=1)\n",
    "    except:\n",
    "        return [],[]\n",
    "    train_notes = train_notes.tolist()\n",
    "    for i,train_note in enumerate(train_notes):\n",
    "        train_notes[i] = np.concatenate((train_notes[i][0],train_notes[i][1:]))\n",
    "\n",
    "    train_notes = np.array(train_notes)\n",
    "    #print(type(train_notes))\n",
    "\n",
    "    del all_notes\n",
    "    #print(train_notes[15:20],\"\\nLength is: \",len(train_notes))\n",
    "\n",
    "    note_input,note_output = pre_process(train_notes)\n",
    "    del train_notes\n",
    "    return note_input, note_output\n",
    "    #print(note_input[0],\"\\nOUTPUT:\\n\",note_output[0])"
   ]
  },
  {
   "cell_type": "code",
   "execution_count": 8,
   "id": "60e29fa9",
   "metadata": {
    "execution": {
     "iopub.execute_input": "2024-07-03T12:55:05.209374Z",
     "iopub.status.busy": "2024-07-03T12:55:05.209091Z",
     "iopub.status.idle": "2024-07-03T12:55:05.217830Z",
     "shell.execute_reply": "2024-07-03T12:55:05.217128Z"
    },
    "papermill": {
     "duration": 0.018405,
     "end_time": "2024-07-03T12:55:05.219646",
     "exception": false,
     "start_time": "2024-07-03T12:55:05.201241",
     "status": "completed"
    },
    "tags": []
   },
   "outputs": [],
   "source": [
    "def accuracy(model,test_loader):\n",
    "    model.eval()\n",
    "    correct_instruments = 0\n",
    "    total_instruments = 0\n",
    "    correct_pitch = 0\n",
    "    total_pitch = 0\n",
    "    loss_step = 0\n",
    "    loss_duration = 0\n",
    "    i = 0\n",
    "\n",
    "    # Calculate accuracy for instruments\n",
    "    for inputs, targets in test_loader:\n",
    "\n",
    "        predictions = model(inputs)\n",
    "\n",
    "        #_, predicted_instruments = predictions[:, :128].max(dim=1)\n",
    "        #_, target_instruments = targets[:, :128].max(dim=1)\n",
    "        #_, predicted_pitch = predictions[:, 128:256].max(dim=1)\n",
    "        #_, target_pitch = targets[:, 128:256].max(dim=1)\n",
    "        _, predicted_pitch = predictions[:, :128].max(dim=1)\n",
    "        _, target_pitch = targets[:, :128].max(dim=1) \n",
    "        predicted_step = predictions[:, -2]\n",
    "        target_step = targets[:, -2]\n",
    "        predicted_duration = predictions[:, -1]\n",
    "        target_duration = targets[:, -1]\n",
    "        #predicted_pitch = (predictions[:, 128] * 128).int()\n",
    "        #target_pitch = (targets[:, 128] * 128).int()\n",
    "        #if(i<1):\n",
    "            #print(predictions[0],\"\\n\\n\",target_instruments)\n",
    "            #print(predicted_pitch,\"\\n\\n\",target_pitch)\n",
    "        i+=1\n",
    "        #correct_instruments += torch.sum(predicted_instruments == target_instruments).item()\n",
    "        #total_instruments += target_instruments.size(0)\n",
    "        correct_pitch += torch.sum(predicted_pitch == target_pitch).item()\n",
    "        total_pitch += target_pitch.size(0)\n",
    "        loss_step += F.l1_loss(predicted_step, target_step)\n",
    "        loss_duration += F.l1_loss(predicted_duration, target_duration)\n",
    "        \n",
    "    #accuracy_instruments = (correct_instruments / total_instruments)\n",
    "    accuracy_pitch = (correct_pitch / total_pitch)\n",
    "    \n",
    "    # Overall accuracy\n",
    "    #overall_accuracy = (correct_instruments + correct_pitch) / (total_instruments + total_pitch)\n",
    "\n",
    "    #print(f'Accuracy for instruments: {accuracy_instruments:.2%}')\n",
    "    #print(f'\\tAccuracy for pitch: {accuracy_pitch:.2%}')\n",
    "    #print(f'\\tLoss for step: {loss_step/i:.2}')\n",
    "    #print(f'\\tLoss for duration: {loss_duration/i:.2}')\n",
    "    return accuracy_pitch*100\n",
    "    #print(f'Overall accuracy: {overall_accuracy:.2%}')"
   ]
  },
  {
   "cell_type": "code",
   "execution_count": 9,
   "id": "6a7e9fed",
   "metadata": {
    "execution": {
     "iopub.execute_input": "2024-07-03T12:55:05.236023Z",
     "iopub.status.busy": "2024-07-03T12:55:05.235562Z",
     "iopub.status.idle": "2024-07-03T12:55:09.302756Z",
     "shell.execute_reply": "2024-07-03T12:55:09.301797Z"
    },
    "papermill": {
     "duration": 4.077313,
     "end_time": "2024-07-03T12:55:09.304942",
     "exception": false,
     "start_time": "2024-07-03T12:55:05.227629",
     "status": "completed"
    },
    "tags": []
   },
   "outputs": [
    {
     "data": {
      "text/plain": [
       "MusicGenerator(\n",
       "  (lstm1): LSTM(130, 256, num_layers=2, batch_first=True, dropout=0.1)\n",
       "  (fcP): Linear(in_features=256, out_features=128, bias=True)\n",
       "  (reluP): ReLU()\n",
       "  (fcS): Linear(in_features=256, out_features=1, bias=True)\n",
       "  (reluS): ReLU()\n",
       "  (fcD): Linear(in_features=256, out_features=1, bias=True)\n",
       "  (reluD): ReLU()\n",
       "  (softmax_pitch): Softmax(dim=1)\n",
       ")"
      ]
     },
     "execution_count": 9,
     "metadata": {},
     "output_type": "execute_result"
    }
   ],
   "source": [
    "from tqdm import tqdm\n",
    "import torch\n",
    "import torch.nn as nn\n",
    "import torch.optim as optim\n",
    "# import torch_xla.debug.metrics as met\n",
    "# import torch_xla.distributed.data_parallel as dp\n",
    "# import torch_xla.distributed.parallel_loader as pl\n",
    "# import torch_xla.utils.utils as xu\n",
    "# import torch_xla.core.xla_model as xm\n",
    "# import torch_xla.distributed.xla_multiprocessing as xmp\n",
    "# import torch_xla.test.test_utils as test_utils\n",
    "#import torch_xla.core.xla_model as xm\n",
    "\n",
    "\n",
    "class MusicGenerator(nn.Module):\n",
    "    def __init__(self, input_size, hidden_size, output_size, num_layers=2, dropout=0.1):\n",
    "        super(MusicGenerator, self).__init__()        \n",
    "        # LSTM layers\n",
    "        self.lstm1 = nn.LSTM(input_size, hidden_size, num_layers=num_layers, batch_first=True, dropout=dropout, bidirectional=False)\n",
    "        #self.dropout = nn.Dropout(p = 0.3)\n",
    "        #self.lstm2 = nn.LSTM(hidden_size, hidden_size, num_layers=num_layers, batch_first=True, dropout=dropout, bidirectional=False)\n",
    "        # Fully connected layers\n",
    "        self.fcP = nn.Linear(hidden_size, output_size-2)\n",
    "        self.reluP = nn.ReLU()\n",
    "        self.fcS = nn.Linear(hidden_size, 1)\n",
    "        self.reluS = nn.ReLU()\n",
    "        self.fcD = nn.Linear(hidden_size,1)\n",
    "        self.reluD = nn.ReLU()\n",
    "        # Softmax layers for instrument and pitch predictions\n",
    "        #self.softmax_instrument = nn.Softmax(dim=1)\n",
    "        self.softmax_pitch = nn.Softmax(dim=1)\n",
    "        \n",
    "        self.init_weights()\n",
    "\n",
    "    def init_weights(self):\n",
    "        for layer in [self.fcP, self.fcS, self.fcD]:\n",
    "            nn.init.xavier_normal_(layer.weight)\n",
    "            nn.init.constant_(layer.bias, 0.0)\n",
    "        \n",
    "    def forward(self, x):\n",
    "        # LSTM layers\n",
    "        out, _ = self.lstm1(x)\n",
    "        #out= self.dropout(out)\n",
    "        #out, _ = self.lstm2(out)\n",
    "        #out, _ = self.lstm3(out)\n",
    "        # Fully connected layers\n",
    "        outP = self.fcP(out[:,-1,:])  # Take the last time step's output\n",
    "        outP = self.reluP(outP)\n",
    "        outS = self.fcS(out[:,-1,:])\n",
    "        outS = self.reluS(outS)\n",
    "        outD = self.fcD(out[:,-1,:])\n",
    "        outD = self.reluD(outD)\n",
    "        # Apply softmax to get probabilities for instrument prediction\n",
    "        #instrument_probs = self.softmax_instrument(out[:, :128])\n",
    "        # Apply softmax to get probabilities for pitch prediction\n",
    "        pitch_probs = self.softmax_pitch(outP)\n",
    "\n",
    "        # Keep step and duration as they are\n",
    "        #step_duration = out[:, 256:]\n",
    "        output = torch.cat((pitch_probs,outS,outD), dim=1)\n",
    "        #output = pitch_probs\n",
    "        #output = out\n",
    "        \n",
    "        return output\n",
    "\n",
    "# Initialize your model\n",
    "model = MusicGenerator(130,256,130)\n",
    "#model = MusicGenerator(note_input.shape[2],256,130)\n",
    "device = torch.device(\"cuda\" if torch.cuda.is_available() else \"cpu\")\n",
    "#device = xm.xla_device()\n",
    "model.to(device)\n"
   ]
  },
  {
   "cell_type": "code",
   "execution_count": 10,
   "id": "4c371971",
   "metadata": {
    "execution": {
     "iopub.execute_input": "2024-07-03T12:55:09.322455Z",
     "iopub.status.busy": "2024-07-03T12:55:09.321978Z",
     "iopub.status.idle": "2024-07-03T12:55:09.328020Z",
     "shell.execute_reply": "2024-07-03T12:55:09.326974Z"
    },
    "papermill": {
     "duration": 0.017273,
     "end_time": "2024-07-03T12:55:09.329924",
     "exception": false,
     "start_time": "2024-07-03T12:55:09.312651",
     "status": "completed"
    },
    "tags": []
   },
   "outputs": [
    {
     "name": "stdout",
     "output_type": "stream",
     "text": [
      "\tInitial:  3829248 23068672\n"
     ]
    }
   ],
   "source": [
    "torch.cuda.empty_cache()\n",
    "print(\"\\tInitial: \",torch.cuda.memory_allocated(),torch.cuda.memory_reserved())"
   ]
  },
  {
   "cell_type": "code",
   "execution_count": 11,
   "id": "c1976ecf",
   "metadata": {
    "execution": {
     "iopub.execute_input": "2024-07-03T12:55:09.346562Z",
     "iopub.status.busy": "2024-07-03T12:55:09.345915Z",
     "iopub.status.idle": "2024-07-03T12:55:11.791127Z",
     "shell.execute_reply": "2024-07-03T12:55:11.790344Z"
    },
    "papermill": {
     "duration": 2.455642,
     "end_time": "2024-07-03T12:55:11.793427",
     "exception": false,
     "start_time": "2024-07-03T12:55:09.337785",
     "status": "completed"
    },
    "tags": []
   },
   "outputs": [],
   "source": [
    "import torch.nn.functional as F\n",
    "\n",
    "class CustomWeightedLoss(nn.Module):\n",
    "    def __init__(self, weights):\n",
    "        super(CustomWeightedLoss, self).__init__()\n",
    "        self.weights = weights\n",
    "\n",
    "    def forward(self, predictions, targets):\n",
    "        # Split the predictions and targets into pitch, step, and duration components\n",
    "        pitch_pred, step_pred, duration_pred = predictions[:, :128], predictions[:, 128:129], predictions[:, 129:]\n",
    "        pitch_target, step_target, duration_target = targets[:, :128], targets[:, 128:129], targets[:, 129:]\n",
    "\n",
    "        # Compute the cross-entropy loss for the pitch prediction\n",
    "        pitch_loss = F.binary_cross_entropy(pitch_pred, pitch_target)\n",
    "\n",
    "        \n",
    "        # Compute the mean squared error loss for step and duration predictions\n",
    "        step_loss = F.l1_loss(step_pred, step_target)\n",
    "        duration_loss = F.l1_loss(duration_pred, duration_target)\n",
    "\n",
    "        # Apply weights to each loss component\n",
    "        #print(pitch_loss,step_loss,duration_loss)\n",
    "        weighted_pitch_loss = pitch_loss * self.weights[0]\n",
    "        weighted_step_loss = step_loss * self.weights[1]\n",
    "        weighted_duration_loss = duration_loss * self.weights[2]\n",
    "        #print(weighted_pitch_loss,weighted_step_loss,weighted_duration_loss)\n",
    "\n",
    "        #print(pitch_loss, step_loss, duration_loss)\n",
    "        # Combine the weighted losses\n",
    "        total_loss = weighted_pitch_loss + weighted_step_loss + weighted_duration_loss\n",
    "        \n",
    "        return total_loss\n",
    "\n",
    "# Define your loss function and optimizer\n",
    "weights = torch.tensor([20,10,10]).to(device)\n",
    "#criterion = nn.MSELoss()\n",
    "#criterion = nn.CrossEntropyLoss()\n",
    "criterion = CustomWeightedLoss(weights)\n",
    "optimizer = optim.Adam(model.parameters(), lr=0.001)"
   ]
  },
  {
   "cell_type": "code",
   "execution_count": 12,
   "id": "5a31c1df",
   "metadata": {
    "execution": {
     "iopub.execute_input": "2024-07-03T12:55:11.810389Z",
     "iopub.status.busy": "2024-07-03T12:55:11.809675Z",
     "iopub.status.idle": "2024-07-03T12:55:11.816091Z",
     "shell.execute_reply": "2024-07-03T12:55:11.815321Z"
    },
    "papermill": {
     "duration": 0.016683,
     "end_time": "2024-07-03T12:55:11.817924",
     "exception": false,
     "start_time": "2024-07-03T12:55:11.801241",
     "status": "completed"
    },
    "tags": []
   },
   "outputs": [],
   "source": [
    "import matplotlib.pyplot as plt\n",
    "\n",
    "class LossPlotter:\n",
    "    def __init__(self,loss):\n",
    "        self.fig, self.ax = plt.subplots()\n",
    "        self.losses = list(loss)\n",
    "\n",
    "    def update_plot(self, loss):\n",
    "        self.losses.append(loss)\n",
    "        self.ax.clear()\n",
    "        self.ax.plot(self.losses, label='Loss')\n",
    "        self.ax.set_xlabel('Epoch')\n",
    "        self.ax.set_ylabel('Loss')\n",
    "        self.ax.legend()\n",
    "        self.fig.canvas.draw()\n",
    "        plt.pause(0.5)  # Pause to allow the plot to update"
   ]
  },
  {
   "cell_type": "code",
   "execution_count": 13,
   "id": "ee3b7980",
   "metadata": {
    "execution": {
     "iopub.execute_input": "2024-07-03T12:55:11.834319Z",
     "iopub.status.busy": "2024-07-03T12:55:11.833681Z",
     "iopub.status.idle": "2024-07-03T13:33:25.920029Z",
     "shell.execute_reply": "2024-07-03T13:33:25.919158Z"
    },
    "papermill": {
     "duration": 2294.096986,
     "end_time": "2024-07-03T13:33:25.922409",
     "exception": false,
     "start_time": "2024-07-03T12:55:11.825423",
     "status": "completed"
    },
    "tags": []
   },
   "outputs": [
    {
     "name": "stderr",
     "output_type": "stream",
     "text": [
      "/opt/conda/lib/python3.10/site-packages/pretty_midi/pretty_midi.py:100: RuntimeWarning: Tempo, Key or Time signature change events found on non-zero tracks.  This is not a valid type 0 or type 1 MIDI file.  Tempo, Key or Time Signature may be wrong.\n",
      "  warnings.warn(\n",
      "/opt/conda/lib/python3.10/site-packages/pretty_midi/pretty_midi.py:100: RuntimeWarning: Tempo, Key or Time signature change events found on non-zero tracks.  This is not a valid type 0 or type 1 MIDI file.  Tempo, Key or Time Signature may be wrong.\n",
      "  warnings.warn(\n",
      "                                                                                                  \r"
     ]
    }
   ],
   "source": [
    "#TRAIN\n",
    "num_epoch = 1\n",
    "n = 0\n",
    "pitch_accuracy = [0.00]\n",
    "loss_value = []\n",
    "#Loss_Plotter = LossPlotter(pitch_accuracy)\n",
    "for i in range(num_epoch):\n",
    "    torch.cuda.empty_cache()\n",
    "    #print(\"\\tInitial: \",torch.cuda.memory_allocated(),torch.cuda.memory_reserved())\n",
    "    note_input,note_output = fetch_files(n,files,20)\n",
    "    n += 20\n",
    "    # Convert your data to PyTorch tensors (assuming you already have network_input and network_output)\n",
    "    network_input_tensor = torch.tensor(note_input, dtype=torch.float32).to(device)\n",
    "    network_output_tensor = torch.tensor(note_output, dtype=torch.float32).to(device)\n",
    "\n",
    "    # Create a PyTorch dataset and data loader\n",
    "    dataset = torch.utils.data.TensorDataset(network_input_tensor, network_output_tensor)\n",
    "    del network_input_tensor\n",
    "    del network_output_tensor\n",
    "    # Define the size of the training and testing datasets\n",
    "    test_size = 0.2  # You can adjust this as needed\n",
    "\n",
    "    # Split the dataset into training and testing sets\n",
    "    train_dataset, test_dataset = torch.utils.data.random_split(dataset, [len(dataset) - int(len(dataset) * test_size), int(len(dataset) * test_size)])\n",
    "    del dataset\n",
    "    # Create data loaders for training and testing sets\n",
    "    train_loader = torch.utils.data.DataLoader(train_dataset, batch_size=128, shuffle=True)\n",
    "    test_loader = torch.utils.data.DataLoader(test_dataset, batch_size=128, shuffle=False)\n",
    "    del train_dataset\n",
    "    del test_dataset\n",
    "    #print(\"\\tBefore loop: \",torch.cuda.memory_allocated(),torch.cuda.memory_reserved())\n",
    "    # Training loop    \n",
    "    num_small_epochs = 200\n",
    "    for epoch in range(num_small_epochs):\n",
    "        model.train()  # Set the model to training mode\n",
    "        running_loss = 0.0\n",
    "        for inputs, targets in tqdm(train_loader, desc=f'Epoch {i} Prev_accuracy {pitch_accuracy[-1]:.4} small_epoch {epoch+1}/{num_small_epochs}', leave=False):\n",
    "        #for inputs, targets in train_loader:\n",
    "            # Zero the gradients\n",
    "            optimizer.zero_grad()\n",
    "\n",
    "            # Forward pass\n",
    "            outputs = model(inputs)\n",
    "            \n",
    "            # Compute the loss\n",
    "            loss = criterion(outputs, targets)\n",
    "\n",
    "            # Backward pass and optimization\n",
    "            loss.backward()       \n",
    "            optimizer.step()\n",
    "            # Accumulate the loss\n",
    "            running_loss += loss.item()\n",
    "        #print(\"\\tAfter loop: \",torch.cuda.memory_allocated(),torch.cuda.memory_reserved())\n",
    "\n",
    "        # Print the average loss for the epoch\n",
    "        #print(f'Epoch [{epoch+1}/{num_small_epochs}], Loss: {running_loss / len(train_loader)}')\n",
    "        #print(\"Testing Accuracy\")\n",
    "        #print(accuracy(test_loader),\"%\")\n",
    "        loss_value.append(running_loss/len(train_loader))\n",
    "        accuracy_value = accuracy(model,train_loader)\n",
    "        pitch_accuracy.append(accuracy_value)\n",
    "        torch.save(model.state_dict(), '/kaggle/working/model_parameters.pth')\n",
    "        #Loss_Plotter.update_plot(accuracy_value)\n",
    "\n",
    "    del train_loader,test_loader"
   ]
  },
  {
   "cell_type": "code",
   "execution_count": 14,
   "id": "3f4cb836",
   "metadata": {
    "execution": {
     "iopub.execute_input": "2024-07-03T13:33:28.423133Z",
     "iopub.status.busy": "2024-07-03T13:33:28.422767Z",
     "iopub.status.idle": "2024-07-03T13:33:30.032433Z",
     "shell.execute_reply": "2024-07-03T13:33:30.031360Z"
    },
    "papermill": {
     "duration": 2.867932,
     "end_time": "2024-07-03T13:33:30.034902",
     "exception": false,
     "start_time": "2024-07-03T13:33:27.166970",
     "status": "completed"
    },
    "tags": []
   },
   "outputs": [
    {
     "data": {
      "image/png": "[encoded data removed]",
      "text/plain": [
       "<Figure size 640x480 with 1 Axes>"
      ]
     },
     "metadata": {},
     "output_type": "display_data"
    },
    {
     "data": {
      "image/png": "[encoded data removed]",
      "text/plain": [
       "<Figure size 640x480 with 1 Axes>"
      ]
     },
     "metadata": {},
     "output_type": "display_data"
    }
   ],
   "source": [
    "Loss_Plotter = LossPlotter(pitch_accuracy)\n",
    "Loss_Plotter.update_plot(pitch_accuracy[-1])\n",
    "Loss_Plotter2 = LossPlotter(loss_value)\n",
    "Loss_Plotter2.update_plot(loss_value[-1])\n",
    "#torch.save(model.state_dict(), 'model.pth')"
   ]
  },
  {
   "cell_type": "code",
   "execution_count": 15,
   "id": "982c61a7",
   "metadata": {
    "execution": {
     "iopub.execute_input": "2024-07-03T13:33:32.508842Z",
     "iopub.status.busy": "2024-07-03T13:33:32.507935Z",
     "iopub.status.idle": "2024-07-03T13:33:32.521353Z",
     "shell.execute_reply": "2024-07-03T13:33:32.520590Z"
    },
    "papermill": {
     "duration": 1.268424,
     "end_time": "2024-07-03T13:33:32.523292",
     "exception": false,
     "start_time": "2024-07-03T13:33:31.254868",
     "status": "completed"
    },
    "tags": []
   },
   "outputs": [],
   "source": [
    "torch.save(model.state_dict(), '/kaggle/working/parameters.pth')"
   ]
  },
  {
   "cell_type": "code",
   "execution_count": 16,
   "id": "242a3875",
   "metadata": {
    "execution": {
     "iopub.execute_input": "2024-07-03T13:33:34.980511Z",
     "iopub.status.busy": "2024-07-03T13:33:34.979525Z",
     "iopub.status.idle": "2024-07-03T13:33:34.990734Z",
     "shell.execute_reply": "2024-07-03T13:33:34.989853Z"
    },
    "papermill": {
     "duration": 1.209405,
     "end_time": "2024-07-03T13:33:34.992682",
     "exception": false,
     "start_time": "2024-07-03T13:33:33.783277",
     "status": "completed"
    },
    "tags": []
   },
   "outputs": [
    {
     "data": {
      "text/plain": [
       "<All keys matched successfully>"
      ]
     },
     "execution_count": 16,
     "metadata": {},
     "output_type": "execute_result"
    }
   ],
   "source": [
    "model.load_state_dict(torch.load('/kaggle/working/parameters.pth'))"
   ]
  },
  {
   "cell_type": "markdown",
   "id": "79a1dd9e",
   "metadata": {
    "papermill": {
     "duration": 1.196751,
     "end_time": "2024-07-03T13:33:37.449548",
     "exception": false,
     "start_time": "2024-07-03T13:33:36.252797",
     "status": "completed"
    },
    "tags": []
   },
   "source": [
    "**TESTING WITH ANOTHER MUSIC**"
   ]
  },
  {
   "cell_type": "code",
   "execution_count": 17,
   "id": "70928745",
   "metadata": {
    "execution": {
     "iopub.execute_input": "2024-07-03T13:33:39.968251Z",
     "iopub.status.busy": "2024-07-03T13:33:39.967885Z",
     "iopub.status.idle": "2024-07-03T13:33:40.266247Z",
     "shell.execute_reply": "2024-07-03T13:33:40.265393Z"
    },
    "papermill": {
     "duration": 1.561894,
     "end_time": "2024-07-03T13:33:40.268662",
     "exception": false,
     "start_time": "2024-07-03T13:33:38.706768",
     "status": "completed"
    },
    "tags": []
   },
   "outputs": [],
   "source": [
    "file_name = [\"/kaggle/input/musicnet-dataset/musicnet_midis/musicnet_midis/Brahms/2127_bra11-2.mid\"]\n",
    "note_input_test,note_output_test = fetch_files(n,[files[random.randint(21,100)]],1)\n",
    "\n",
    "network_input_test_tensor = torch.tensor(note_input_test, dtype=torch.float32).to(device)\n",
    "network_output_test_tensor = torch.tensor(note_output_test, dtype=torch.float32).to(device)"
   ]
  },
  {
   "cell_type": "code",
   "execution_count": 18,
   "id": "1862f784",
   "metadata": {
    "execution": {
     "iopub.execute_input": "2024-07-03T13:33:42.813935Z",
     "iopub.status.busy": "2024-07-03T13:33:42.813190Z",
     "iopub.status.idle": "2024-07-03T13:33:42.822517Z",
     "shell.execute_reply": "2024-07-03T13:33:42.821559Z"
    },
    "papermill": {
     "duration": 1.27496,
     "end_time": "2024-07-03T13:33:42.824385",
     "exception": false,
     "start_time": "2024-07-03T13:33:41.549425",
     "status": "completed"
    },
    "tags": []
   },
   "outputs": [],
   "source": [
    "def notes_to_midi(notes, output_file):\n",
    "\n",
    "    midi_data = pretty_midi.PrettyMIDI()\n",
    "    \n",
    "    instruments_dict = {}\n",
    "\n",
    "    prev_start = 0\n",
    "    for note in notes:\n",
    "        #instrument_number = note['instrument']\n",
    "        #_, instrument_number = note[:128].max(dim=0)\n",
    "        instrument_number = 0\n",
    "        #print(instrument_number)\n",
    "        instrument_number = int(instrument_number)\n",
    "        \n",
    "        if instrument_number not in instruments_dict:\n",
    "            instruments_dict[instrument_number] = pretty_midi.Instrument(program=instrument_number)\n",
    "        \n",
    "        # Get the Instrument object from the dictionary\n",
    "        instrument = instruments_dict[instrument_number]\n",
    "\n",
    "        # Extract pitch, step, and duration from the note\n",
    "        _, pitch = note[:128].max(dim=0)\n",
    "        #pitch = note[-3]\n",
    "        step = note[-2]\n",
    "        #step = 0.4\n",
    "        duration = note[-1]\n",
    "        #duration = 0.3\n",
    "        \n",
    "        # Calculate start time and end time based on step and duration\n",
    "        start_time = prev_start + step\n",
    "        end_time = start_time + duration\n",
    "        prev_start = start_time\n",
    "\n",
    "        # Create a Note object and add it to the Instrument\n",
    "        midi_note = pretty_midi.Note(\n",
    "            velocity=100,  # Adjust the velocity (volume) of the note here if needed\n",
    "            pitch=int(pitch),\n",
    "            start=float(start_time),\n",
    "            end=float(end_time)\n",
    "        )\n",
    "        #print(midi_note, start_time, end_time)\n",
    "        instrument.notes.append(midi_note)\n",
    "\n",
    "    # Add all instruments to the PrettyMIDI object\n",
    "    for instrument_number, instrument in instruments_dict.items():\n",
    "        midi_data.instruments.append(instrument)\n",
    "\n",
    "    # Write the MIDI data to a file\n",
    "    midi_data.write(output_file)"
   ]
  },
  {
   "cell_type": "code",
   "execution_count": 19,
   "id": "fce8128c",
   "metadata": {
    "execution": {
     "iopub.execute_input": "2024-07-03T13:33:45.280967Z",
     "iopub.status.busy": "2024-07-03T13:33:45.280612Z",
     "iopub.status.idle": "2024-07-03T13:33:45.727573Z",
     "shell.execute_reply": "2024-07-03T13:33:45.726772Z"
    },
    "papermill": {
     "duration": 1.697946,
     "end_time": "2024-07-03T13:33:45.729860",
     "exception": false,
     "start_time": "2024-07-03T13:33:44.031914",
     "status": "completed"
    },
    "tags": []
   },
   "outputs": [],
   "source": [
    "def generate_notes(model, initial_notes, num_notes_to_generate):\n",
    "      \n",
    "    generated_notes = initial_notes.clone().to(device)\n",
    "    model.eval()\n",
    "    \n",
    "    with torch.no_grad():  # Disable gradient calculation since we're only predicting\n",
    "        for _ in range(num_notes_to_generate):\n",
    "            #print(generated_notes.shape)\n",
    "            input_sequence = generated_notes[-50:].unsqueeze(dim=0)\n",
    "            \n",
    "            # Predict the next note\n",
    "            predictions = model(input_sequence)\n",
    "            #_, predicted_instruments = predictions[:, :128].max(dim=1)\n",
    "            #_, predicted_pitch = predictions[:, 128:256].max(dim=1)          \n",
    "            _, predicted_pitch = predictions.max(dim=1)\n",
    "            # Append the predicted note to the generated sequence\n",
    "            generated_notes = torch.cat((generated_notes, predictions), dim=0)\n",
    "    \n",
    "    return generated_notes \n",
    "generated_sequence = generate_notes(model, network_input_test_tensor[0], 200)"
   ]
  },
  {
   "cell_type": "code",
   "execution_count": 20,
   "id": "3ee555a1",
   "metadata": {
    "execution": {
     "iopub.execute_input": "2024-07-03T13:33:48.167809Z",
     "iopub.status.busy": "2024-07-03T13:33:48.167438Z",
     "iopub.status.idle": "2024-07-03T13:33:48.220215Z",
     "shell.execute_reply": "2024-07-03T13:33:48.219473Z"
    },
    "papermill": {
     "duration": 1.246164,
     "end_time": "2024-07-03T13:33:48.222283",
     "exception": false,
     "start_time": "2024-07-03T13:33:46.976119",
     "status": "completed"
    },
    "tags": []
   },
   "outputs": [],
   "source": [
    "notes_to_midi(generated_sequence,\"Fourth_Music.mid\")"
   ]
  }
 ],
 "metadata": {
  "kaggle": {
   "accelerator": "gpu",
   "dataSources": [
    {
     "datasetId": 1167622,
     "sourceId": 1956211,
     "sourceType": "datasetVersion"
    },
    {
     "datasetId": 4677038,
     "sourceId": 7952691,
     "sourceType": "datasetVersion"
    }
   ],
   "dockerImageVersionId": 30673,
   "isGpuEnabled": true,
   "isInternetEnabled": true,
   "language": "python",
   "sourceType": "notebook"
  },
  "kernelspec": {
   "display_name": "Python 3",
   "language": "python",
   "name": "python3"
  },
  "language_info": {
   "codemirror_mode": {
    "name": "ipython",
    "version": 3
   },
   "file_extension": ".py",
   "mimetype": "text/x-python",
   "name": "python",
   "nbconvert_exporter": "python",
   "pygments_lexer": "ipython3",
   "version": "3.10.13"
  },
  "papermill": {
   "default_parameters": {},
   "duration": 2347.941356,
   "end_time": "2024-07-03T13:33:52.093450",
   "environment_variables": {},
   "exception": null,
   "input_path": "__notebook__.ipynb",
   "output_path": "__notebook__.ipynb",
   "parameters": {},
   "start_time": "2024-07-03T12:54:44.152094",
   "version": "2.5.0"
  }
 },
 "nbformat": 4,
 "nbformat_minor": 5
}
